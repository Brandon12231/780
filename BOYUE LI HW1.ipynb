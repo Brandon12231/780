{
  "nbformat": 4,
  "nbformat_minor": 0,
  "metadata": {
    "colab": {
      "provenance": [],
      "include_colab_link": true
    },
    "kernelspec": {
      "name": "python3",
      "display_name": "Python 3"
    },
    "language_info": {
      "name": "python"
    }
  },
  "cells": [
    {
      "cell_type": "markdown",
      "metadata": {
        "id": "view-in-github",
        "colab_type": "text"
      },
      "source": [
        "<a href=\"https://colab.research.google.com/github/Brandon12231/780/blob/main/BOYUE%20LI%20HW1.ipynb\" target=\"_parent\"><img src=\"https://colab.research.google.com/assets/colab-badge.svg\" alt=\"Open In Colab\"/></a>"
      ]
    },
    {
      "cell_type": "markdown",
      "source": [
        " Problem Introduction:\n",
        "We want to determine the best purchase plan for the fertilizers to meet the grass's nutrient requirements while minimizing the total cost.\n",
        "Minimize C(x,y,z)=0.01x+0.008y+0.007z\n",
        "2. Decision Variables:\n",
        "\n",
        "\n",
        "x\n",
        "A\n",
        "​\n",
        " : This represents the number of pounds of Fertilizer A we should buy.\n",
        "\n",
        "x\n",
        "B\n",
        "​\n",
        " : This is the number of pounds of Fertilizer B we should purchase.\n",
        "\n",
        "x\n",
        "C\n",
        "​\n",
        " : Similarly, this is for Fertilizer C.\n",
        "3. Objective:\n",
        "Our primary goal is to minimize the overall expenditure when buying these fertilizers. We calculate the cost by multiplying the price per pound of each fertilizer by the number of pounds we decide to buy.\n",
        "\n",
        "4. Constraints:\n",
        "Subject to:\n",
        "0.02x+0.01y+0.015z≥1.2\n",
        " 0.01x+0.005y+0.01z≥1.4\n",
        "0.005x+0.015y+0.005z≥1.8\n",
        "x≥0 y≥0 z≥0\n"
      ],
      "metadata": {
        "id": "s77505aEeUB0"
      }
    },
    {
      "cell_type": "markdown",
      "source": [
        "Install Pyomo and a few optimization engines."
      ],
      "metadata": {
        "id": "7uDAHgewfUeA"
      }
    },
    {
      "cell_type": "code",
      "execution_count": 7,
      "metadata": {
        "id": "bhUZqqF8eQBg"
      },
      "outputs": [],
      "source": [
        "%%capture\n",
        "import sys\n",
        "import os\n",
        "\n",
        "if 'google.colab' in sys.modules:\n",
        "    !pip install idaes-pse --pre    # Installs a set of good open source optimization tools\n",
        "    !idaes get-extensions --to ./bin\n",
        "    os.environ['PATH'] += ':bin'    # Add to path so we can find it\n",
        "\n",
        "import pyomo.environ as pyo         # Import pyomo"
      ]
    },
    {
      "cell_type": "markdown",
      "source": [
        "Instantiate an engine that we can use to optimize."
      ],
      "metadata": {
        "id": "y4HC3EBeXr8Q"
      }
    },
    {
      "cell_type": "code",
      "source": [
        "opt = pyo.SolverFactory('cbc')\n",
        "  # Instantiate the 'CBC' optimization engine: one of the best open source engines that can solve\n",
        "  # linear and non-linear problems with continuous and intger decision variables."
      ],
      "metadata": {
        "id": "HT5Zis8Ij5_9"
      },
      "execution_count": 8,
      "outputs": []
    },
    {
      "cell_type": "code",
      "source": [
        "# Import the required library for optimization\n",
        "import pyomo.environ as pyo\n",
        "\n",
        "# --- Model Initialization ---\n",
        "\n",
        "# Create a new optimization model\n",
        "m = pyo.ConcreteModel()\n",
        "\n",
        "# --- Decision Variables ---\n",
        "\n",
        "# Define the variables for the amount (in pounds) of fertilizer A, B, and C we'll purchase\n",
        "m.xA = pyo.Var(domain=pyo.NonNegativeReals)\n",
        "m.xB = pyo.Var(domain=pyo.NonNegativeReals)\n",
        "m.xC = pyo.Var(domain=pyo.NonNegativeReals)\n",
        "\n",
        "# --- Objective Function ---\n",
        "\n",
        "# Set our objective: minimize the total cost of purchasing the fertilizers\n",
        "m.CostObj = pyo.Objective(expr=0.01*m.xA + 0.008*m.xB + 0.007*m.xC, sense=pyo.minimize)\n",
        "\n",
        "# --- Constraints ---\n",
        "\n",
        "# Ensure that the grass gets the required amount of each mineral\n",
        "m.NitrogenConstraint = pyo.Constraint(expr=0.02*m.xA + 0.01*m.xB + 0.015*m.xC >= 1.2)\n",
        "m.PhosphorusConstraint = pyo.Constraint(expr=0.01*m.xA + 0.005*m.xB + 0.01*m.xC >= 1.4)\n",
        "m.PotashConstraint = pyo.Constraint(expr=0.005*m.xA + 0.015*m.xB + 0.005*m.xC >= 1.8)\n",
        "\n",
        "# --- Solver Configuration ---\n",
        "\n",
        "# Configure the solver we'll use (CBC in this case)\n",
        "opt = pyo.SolverFactory('cbc')\n",
        "\n",
        "# Indicate that we want to retrieve dual (shadow) values after solving\n",
        "m.dual = pyo.Suffix(direction=pyo.Suffix.IMPORT)\n",
        "\n",
        "# --- Solve the Model ---\n",
        "\n",
        "# Solve the optimization problem and store the results\n",
        "results = opt.solve(m, tee=True, keepfiles=False)\n",
        "\n",
        "# --- Post-Processing: Display Results ---\n",
        "\n",
        "# If the solver found an optimal solution, display it\n",
        "if (results.solver.status == pyo.SolverStatus.ok) and (results.solver.termination_condition == pyo.TerminationCondition.optimal):\n",
        "    # Display the optimal amounts of each fertilizer to purchase\n",
        "    print(\"Fertilizer A (lbs): \", m.xA.value)\n",
        "    print(\"Fertilizer B (lbs): \", m.xB.value)\n",
        "    print(\"Fertilizer C (lbs): \", m.xC.value)\n",
        "    # Display the minimum cost achieved\n",
        "    print(\"Total Cost ($):\", m.CostObj())\n",
        "    # Display the shadow prices for each constraint\n",
        "    print(\"Nitrogen Constraint Shadow Price =\", m.dual[m.NitrogenConstraint])\n",
        "    print(\"Phosphorus Constraint Shadow Price =\", m.dual[m.PhosphorusConstraint])\n",
        "    print(\"Potash Constraint Shadow Price =\", m.dual[m.PotashConstraint])\n",
        "else:\n",
        "    # If an optimal solution was not found, display the solver status\n",
        "    print(\"Solver Status:\", results.solver.status)\n"
      ],
      "metadata": {
        "id": "CofcdfRXPEPU",
        "outputId": "e30a5f1a-4a8f-4403-d150-77bb6ed62255",
        "colab": {
          "base_uri": "https://localhost:8080/"
        }
      },
      "execution_count": 13,
      "outputs": [
        {
          "output_type": "stream",
          "name": "stdout",
          "text": [
            "Welcome to the CBC MILP Solver \n",
            "Version: 2.10.10 \n",
            "Build Date: Jun  7 2023 \n",
            "\n",
            "command line - /content/bin/cbc -printingOptions all -import /tmp/tmp459587lh.pyomo.lp -stat=1 -solve -solu /tmp/tmp459587lh.pyomo.soln (default strategy 1)\n",
            "Option for printingOptions changed from normal to all\n",
            "Presolve 3 (0) rows, 3 (0) columns and 9 (0) elements\n",
            "Statistics for presolved model\n",
            "\n",
            "\n",
            "Problem has 3 rows, 3 columns (3 with objective) and 9 elements\n",
            "Column breakdown:\n",
            "3 of type 0.0->inf, 0 of type 0.0->up, 0 of type lo->inf, \n",
            "0 of type lo->up, 0 of type free, 0 of type fixed, \n",
            "0 of type -inf->0.0, 0 of type -inf->up, 0 of type 0.0->1.0 \n",
            "Row breakdown:\n",
            "0 of type E 0.0, 0 of type E 1.0, 0 of type E -1.0, \n",
            "0 of type E other, 0 of type G 0.0, 0 of type G 1.0, \n",
            "3 of type G other, 0 of type L 0.0, 0 of type L 1.0, \n",
            "0 of type L other, 0 of type Range 0.0->1.0, 0 of type Range other, \n",
            "0 of type Free \n",
            "Presolve 3 (0) rows, 3 (0) columns and 9 (0) elements\n",
            "0  Obj 0 Primal inf 320 (3)\n",
            "2  Obj 1.376\n",
            "Optimal - objective value 1.376\n",
            "Optimal objective 1.376 - 2 iterations time 0.002\n",
            "Total time (CPU seconds):       0.00   (Wallclock seconds):       0.00\n",
            "\n",
            "Fertilizer A (lbs):  0.0\n",
            "Fertilizer B (lbs):  88.0\n",
            "Fertilizer C (lbs):  96.0\n",
            "Total Cost ($): 1.376\n",
            "Nitrogen Constraint Shadow Price = 0.0\n",
            "Phosphorus Constraint Shadow Price = 0.52\n",
            "Potash Constraint Shadow Price = 0.36\n"
          ]
        }
      ]
    },
    {
      "cell_type": "markdown",
      "source": [
        "## Extra Notes\n",
        "\n",
        "This highlights the features that you need to complete the HW1. There are a ton more. You can learn them, as necessary, from the resources at the end.\n",
        "\n",
        "### Abstract vs Concrete Models\n",
        "\n",
        "There are two types of models in Pyomo: concrete and abstract. The former can be created when all your data elements (constraint parameters and objective coefficients) are available at the time of model creation. The abstract model allows us to create a model without \"hard coding\" data as part of it. The former is easier (hence we use it here). The latter allows us to separately specify a data file whose content will decide the model details. Abstract model is more common in some of the more popular optimization modeling languages (such as AMPL), as it allows us to focus on the type of model, without getting bogged down in the details of a specific instance.\n",
        "\n",
        "Having said that, because Pyomo is being used within Python, we could achieve quite a bit of \"program--data separation\" using a concrete model too. We use ConcreteModel in this example since it's a little easier to use.\n",
        "\n",
        "### Further Resources\n",
        "\n",
        "1. A nice [tutorial style cookbook](https://pyomo.readthedocs.io/en/stable/) by Professor Jeffrey Kantor from Notre Dame.\n",
        "1. The [official Pyomo documentation](https://pyomo.readthedocs.io/en/stable/).\n"
      ],
      "metadata": {
        "id": "fUzJ_kM9qzGG"
      }
    }
  ]
}