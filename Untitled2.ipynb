{
  "nbformat": 4,
  "nbformat_minor": 0,
  "metadata": {
    "colab": {
      "provenance": [],
      "toc_visible": true,
      "mount_file_id": "1YkMt8zhCieTruHq8qfDgfPuyWAQhVqu8",
      "authorship_tag": "ABX9TyO8k6wgTAp/HTrDZ4IKAEMI",
      "include_colab_link": true
    },
    "kernelspec": {
      "name": "python3",
      "display_name": "Python 3"
    },
    "language_info": {
      "name": "python"
    }
  },
  "cells": [
    {
      "cell_type": "markdown",
      "metadata": {
        "id": "view-in-github",
        "colab_type": "text"
      },
      "source": [
        "<a href=\"https://colab.research.google.com/github/Brandon12231/780/blob/main/Untitled2.ipynb\" target=\"_parent\"><img src=\"https://colab.research.google.com/assets/colab-badge.svg\" alt=\"Open In Colab\"/></a>"
      ]
    },
    {
      "cell_type": "code",
      "execution_count": 157,
      "metadata": {
        "colab": {
          "base_uri": "https://localhost:8080/"
        },
        "id": "Fc-6tsVp_LjK",
        "outputId": "26ee10ec-55b9-479f-df00-f7e2d9b91ede"
      },
      "outputs": [
        {
          "output_type": "stream",
          "name": "stdout",
          "text": [
            "Reading package lists... Done\n",
            "Building dependency tree       \n",
            "Reading state information... Done\n",
            "git is already the newest version (1:2.25.1-1ubuntu3.10).\n",
            "0 upgraded, 0 newly installed, 0 to remove and 24 not upgraded.\n"
          ]
        }
      ],
      "source": [
        "!apt-get install git\n"
      ]
    },
    {
      "cell_type": "code",
      "source": [
        "!git clone https://github.com/Brandon12231/BA865-2023/blob/main/Lecture%20Materials/C_Assignment/Individual%20Assignment.ipynb\n"
      ],
      "metadata": {
        "colab": {
          "base_uri": "https://localhost:8080/"
        },
        "id": "ohdryrr-_M-Z",
        "outputId": "69db1ae7-a9d3-4087-d391-a4a354aae390"
      },
      "execution_count": 158,
      "outputs": [
        {
          "output_type": "stream",
          "name": "stdout",
          "text": [
            "Cloning into 'Individual%20Assignment.ipynb'...\n",
            "fatal: repository 'https://github.com/Brandon12231/BA865-2023/blob/main/Lecture%20Materials/C_Assignment/Individual%20Assignment.ipynb/' not found\n"
          ]
        }
      ]
    },
    {
      "cell_type": "code",
      "source": [
        "import pandas as pd\n",
        "import numpy as np\n",
        "import tensorflow as tf\n",
        "from tensorflow import keras\n",
        "import matplotlib.pyplot as plt\n",
        "\n",
        "bluebikes = pd.read_csv('https://raw.githubusercontent.com/gburtch/BA865-2023/main/Lecture%20Materials/C_Assignment/bluebikes_sample.csv')\n",
        "\n",
        "# This function MUST return a pair of objects (predictors, labels, in that order) as numpy arrays.\n",
        "import pandas as pd\n",
        "import numpy as np\n",
        "from sklearn.preprocessing import StandardScaler\n",
        "\n",
        "bluebikes = pd.read_csv('https://raw.githubusercontent.com/gburtch/BA865-2023/main/Lecture%20Materials/C_Assignment/bluebikes_sample.csv')\n",
        "\n",
        "def processData(data):\n",
        "    # Select the predictors and labels\n",
        "    predictors = data.drop(columns=['tripduration', 'starttime', 'stoptime', 'start station name', 'end station name', 'bikeid'])\n",
        "    labels = data['tripduration']\n",
        "    \n",
        "    # Fill in missing values with the median of the corresponding column\n",
        "    predictors = predictors.fillna(predictors.median())\n",
        "    \n",
        "    # One-hot encode the usertype column\n",
        "    predictors = pd.get_dummies(predictors, columns=['usertype'])\n",
        "    \n",
        "    # Convert to numpy arrays\n",
        "    predictors = predictors.to_numpy()\n",
        "    labels = labels.to_numpy()\n",
        "    \n",
        "    return predictors, labels\n",
        "\n"
      ],
      "metadata": {
        "id": "KwZZPSAw_Z7o"
      },
      "execution_count": 178,
      "outputs": []
    },
    {
      "cell_type": "code",
      "source": [
        "print(bluebikes.dtypes)"
      ],
      "metadata": {
        "colab": {
          "base_uri": "https://localhost:8080/"
        },
        "id": "ZA048BMpSdRu",
        "outputId": "21f44280-5076-4063-e469-029153ec61aa"
      },
      "execution_count": 160,
      "outputs": [
        {
          "output_type": "stream",
          "name": "stdout",
          "text": [
            "tripduration                 int64\n",
            "starttime                   object\n",
            "stoptime                    object\n",
            "start station id             int64\n",
            "start station name          object\n",
            "start station latitude     float64\n",
            "start station longitude    float64\n",
            "end station id               int64\n",
            "end station name            object\n",
            "end station latitude       float64\n",
            "end station longitude      float64\n",
            "bikeid                       int64\n",
            "usertype                    object\n",
            "birth year                   int64\n",
            "gender                       int64\n",
            "dtype: object\n"
          ]
        }
      ]
    },
    {
      "cell_type": "code",
      "source": [
        "predictors, labels = processData(bluebikes)\n",
        "# Fit a standard scaler to the predictors\n",
        "scaler = StandardScaler()\n",
        "scaler.fit(predictors)\n",
        "\n",
        "# Transform the predictors using the scaler\n",
        "predictors = scaler.transform(predictors)\n",
        "\n",
        "# Build and train the model\n",
        "\n",
        "def build_model():\n",
        "    model = keras.Sequential([\n",
        "        keras.layers.Dense(32, activation='relu', input_shape=(predictors.shape[1],)),\n",
        "        keras.layers.Dense(16, activation='relu'),\n",
        "        keras.layers.Dense(1)\n",
        "    ])\n",
        "    \n",
        "    model.compile(loss='mean_squared_error', optimizer='adam', metrics=['mae'])\n",
        "    \n",
        "    return model\n",
        "\n"
      ],
      "metadata": {
        "colab": {
          "base_uri": "https://localhost:8080/"
        },
        "id": "9o5BOvzBHJ6Z",
        "outputId": "480717ba-f3cf-4f54-b2ca-1b070683fb99"
      },
      "execution_count": 179,
      "outputs": [
        {
          "output_type": "stream",
          "name": "stderr",
          "text": [
            "<ipython-input-178-a1d89622fbf4>:22: FutureWarning: Dropping of nuisance columns in DataFrame reductions (with 'numeric_only=None') is deprecated; in a future version this will raise TypeError.  Select only valid columns before calling the reduction.\n",
            "  predictors = predictors.fillna(predictors.median())\n"
          ]
        }
      ]
    },
    {
      "cell_type": "code",
      "source": [
        "predictors_df = pd.DataFrame(predictors)\n",
        "non_numeric_cols = predictors_df.select_dtypes(exclude=['int', 'float']).columns\n",
        "print(non_numeric_cols)\n",
        "\n"
      ],
      "metadata": {
        "colab": {
          "base_uri": "https://localhost:8080/"
        },
        "id": "Zsxik4MXm7Rp",
        "outputId": "ef25bc8e-1c94-4690-f210-f43bf7121dbd"
      },
      "execution_count": 175,
      "outputs": [
        {
          "output_type": "stream",
          "name": "stdout",
          "text": [
            "Int64Index([  0,   1,   2,   3,   4,   5,   6,   7,   8,   9,\n",
            "            ...\n",
            "            617, 618, 619, 620, 621, 622, 623, 624, 625, 626],\n",
            "           dtype='int64', length=627)\n"
          ]
        }
      ]
    },
    {
      "cell_type": "code",
      "source": [
        "model = build_model()\n",
        "\n",
        "# Train the model using the preprocessed data\n",
        "history = model.fit(predictors, labels, epochs=50, batch_size=32, validation_split=0.2)\n",
        "\n",
        "\n",
        "\n"
      ],
      "metadata": {
        "colab": {
          "base_uri": "https://localhost:8080/"
        },
        "id": "V_AWsgJtH_Jr",
        "outputId": "cff22474-010e-4975-84b9-35f5ed529252"
      },
      "execution_count": 180,
      "outputs": [
        {
          "output_type": "stream",
          "name": "stdout",
          "text": [
            "Epoch 1/50\n",
            "225/225 [==============================] - 1s 3ms/step - loss: 1889441.3750 - mae: 843.9768 - val_loss: 5777688.0000 - val_mae: 845.4583\n",
            "Epoch 2/50\n",
            "225/225 [==============================] - 0s 2ms/step - loss: 1804909.3750 - mae: 802.0208 - val_loss: 5614359.5000 - val_mae: 762.2303\n",
            "Epoch 3/50\n",
            "225/225 [==============================] - 0s 2ms/step - loss: 1569627.2500 - mae: 676.9786 - val_loss: 5326104.0000 - val_mae: 615.1160\n",
            "Epoch 4/50\n",
            "225/225 [==============================] - 0s 2ms/step - loss: 1304822.5000 - mae: 549.4727 - val_loss: 5123049.0000 - val_mae: 529.7952\n",
            "Epoch 5/50\n",
            "225/225 [==============================] - 0s 2ms/step - loss: 1168488.1250 - mae: 493.4649 - val_loss: 5048383.5000 - val_mae: 509.9687\n",
            "Epoch 6/50\n",
            "225/225 [==============================] - 0s 2ms/step - loss: 1122799.2500 - mae: 485.0554 - val_loss: 5021682.5000 - val_mae: 509.7659\n",
            "Epoch 7/50\n",
            "225/225 [==============================] - 0s 2ms/step - loss: 1106558.3750 - mae: 485.4442 - val_loss: 5009564.5000 - val_mae: 510.2275\n",
            "Epoch 8/50\n",
            "225/225 [==============================] - 0s 2ms/step - loss: 1099664.7500 - mae: 484.8676 - val_loss: 5003799.0000 - val_mae: 512.5886\n",
            "Epoch 9/50\n",
            "225/225 [==============================] - 0s 2ms/step - loss: 1096487.1250 - mae: 486.1267 - val_loss: 4999940.0000 - val_mae: 512.6276\n",
            "Epoch 10/50\n",
            "225/225 [==============================] - 0s 2ms/step - loss: 1093693.6250 - mae: 485.1642 - val_loss: 4996579.0000 - val_mae: 511.3490\n",
            "Epoch 11/50\n",
            "225/225 [==============================] - 0s 2ms/step - loss: 1091486.1250 - mae: 485.6306 - val_loss: 4993299.5000 - val_mae: 510.3966\n",
            "Epoch 12/50\n",
            "225/225 [==============================] - 0s 2ms/step - loss: 1089908.3750 - mae: 485.5164 - val_loss: 4990715.5000 - val_mae: 508.3908\n",
            "Epoch 13/50\n",
            "225/225 [==============================] - 0s 2ms/step - loss: 1088602.6250 - mae: 481.8674 - val_loss: 4988206.5000 - val_mae: 509.9276\n",
            "Epoch 14/50\n",
            "225/225 [==============================] - 0s 2ms/step - loss: 1087234.5000 - mae: 482.3478 - val_loss: 4985642.0000 - val_mae: 509.8458\n",
            "Epoch 15/50\n",
            "225/225 [==============================] - 0s 2ms/step - loss: 1085982.1250 - mae: 483.9253 - val_loss: 4983399.0000 - val_mae: 507.8963\n",
            "Epoch 16/50\n",
            "225/225 [==============================] - 0s 2ms/step - loss: 1084858.0000 - mae: 480.9205 - val_loss: 4980980.0000 - val_mae: 507.4219\n",
            "Epoch 17/50\n",
            "225/225 [==============================] - 0s 2ms/step - loss: 1083440.8750 - mae: 482.8038 - val_loss: 4978550.5000 - val_mae: 504.1519\n",
            "Epoch 18/50\n",
            "225/225 [==============================] - 0s 2ms/step - loss: 1082578.8750 - mae: 478.6126 - val_loss: 4977079.0000 - val_mae: 505.0025\n",
            "Epoch 19/50\n",
            "225/225 [==============================] - 0s 1ms/step - loss: 1081493.0000 - mae: 477.8834 - val_loss: 4975723.0000 - val_mae: 505.5816\n",
            "Epoch 20/50\n",
            "225/225 [==============================] - 0s 2ms/step - loss: 1080206.5000 - mae: 479.0176 - val_loss: 4972966.5000 - val_mae: 504.1005\n",
            "Epoch 21/50\n",
            "225/225 [==============================] - 1s 2ms/step - loss: 1079076.2500 - mae: 477.7379 - val_loss: 4970463.0000 - val_mae: 502.8533\n",
            "Epoch 22/50\n",
            "225/225 [==============================] - 1s 2ms/step - loss: 1078400.2500 - mae: 477.1948 - val_loss: 4968803.0000 - val_mae: 501.1353\n",
            "Epoch 23/50\n",
            "225/225 [==============================] - 0s 2ms/step - loss: 1076893.1250 - mae: 476.2935 - val_loss: 4966438.5000 - val_mae: 500.7760\n",
            "Epoch 24/50\n",
            "225/225 [==============================] - 0s 2ms/step - loss: 1075824.5000 - mae: 476.1485 - val_loss: 4964470.5000 - val_mae: 500.6300\n",
            "Epoch 25/50\n",
            "225/225 [==============================] - 1s 2ms/step - loss: 1074838.3750 - mae: 475.2251 - val_loss: 4962640.0000 - val_mae: 497.3680\n",
            "Epoch 26/50\n",
            "225/225 [==============================] - 0s 2ms/step - loss: 1073506.3750 - mae: 473.8705 - val_loss: 4960591.0000 - val_mae: 495.8448\n",
            "Epoch 27/50\n",
            "225/225 [==============================] - 0s 1ms/step - loss: 1072278.1250 - mae: 471.7330 - val_loss: 4958419.5000 - val_mae: 496.0622\n",
            "Epoch 28/50\n",
            "225/225 [==============================] - 0s 2ms/step - loss: 1071350.3750 - mae: 470.8408 - val_loss: 4956132.0000 - val_mae: 495.2984\n",
            "Epoch 29/50\n",
            "225/225 [==============================] - 0s 2ms/step - loss: 1069655.1250 - mae: 469.2020 - val_loss: 4953882.5000 - val_mae: 494.2533\n",
            "Epoch 30/50\n",
            "225/225 [==============================] - 0s 2ms/step - loss: 1068508.0000 - mae: 469.8765 - val_loss: 4951953.0000 - val_mae: 494.4499\n",
            "Epoch 31/50\n",
            "225/225 [==============================] - 0s 2ms/step - loss: 1067317.6250 - mae: 466.1996 - val_loss: 4949004.5000 - val_mae: 494.2961\n",
            "Epoch 32/50\n",
            "225/225 [==============================] - 0s 2ms/step - loss: 1065760.7500 - mae: 468.7012 - val_loss: 4947285.5000 - val_mae: 494.5170\n",
            "Epoch 33/50\n",
            "225/225 [==============================] - 0s 2ms/step - loss: 1064166.0000 - mae: 467.6984 - val_loss: 4944585.0000 - val_mae: 490.3401\n",
            "Epoch 34/50\n",
            "225/225 [==============================] - 0s 2ms/step - loss: 1062942.1250 - mae: 465.7199 - val_loss: 4941799.5000 - val_mae: 488.4593\n",
            "Epoch 35/50\n",
            "225/225 [==============================] - 0s 2ms/step - loss: 1061406.0000 - mae: 461.9610 - val_loss: 4939005.5000 - val_mae: 488.0988\n",
            "Epoch 36/50\n",
            "225/225 [==============================] - 0s 2ms/step - loss: 1059769.1250 - mae: 461.6345 - val_loss: 4936903.0000 - val_mae: 486.6346\n",
            "Epoch 37/50\n",
            "225/225 [==============================] - 0s 2ms/step - loss: 1058148.0000 - mae: 459.9002 - val_loss: 4933841.0000 - val_mae: 487.1756\n",
            "Epoch 38/50\n",
            "225/225 [==============================] - 0s 2ms/step - loss: 1056553.5000 - mae: 460.4316 - val_loss: 4931138.0000 - val_mae: 485.3493\n",
            "Epoch 39/50\n",
            "225/225 [==============================] - 0s 2ms/step - loss: 1055044.8750 - mae: 457.8044 - val_loss: 4928354.5000 - val_mae: 482.6731\n",
            "Epoch 40/50\n",
            "225/225 [==============================] - 0s 2ms/step - loss: 1053356.7500 - mae: 457.5436 - val_loss: 4925061.5000 - val_mae: 479.8542\n",
            "Epoch 41/50\n",
            "225/225 [==============================] - 0s 2ms/step - loss: 1051496.0000 - mae: 456.7718 - val_loss: 4922405.0000 - val_mae: 477.1027\n",
            "Epoch 42/50\n",
            "225/225 [==============================] - 0s 2ms/step - loss: 1049782.6250 - mae: 451.0555 - val_loss: 4919163.5000 - val_mae: 476.6767\n",
            "Epoch 43/50\n",
            "225/225 [==============================] - 0s 2ms/step - loss: 1048180.6875 - mae: 449.1925 - val_loss: 4916223.0000 - val_mae: 477.5742\n",
            "Epoch 44/50\n",
            "225/225 [==============================] - 0s 2ms/step - loss: 1046045.9375 - mae: 452.1329 - val_loss: 4913209.5000 - val_mae: 474.0500\n",
            "Epoch 45/50\n",
            "225/225 [==============================] - 0s 2ms/step - loss: 1044484.2500 - mae: 446.7841 - val_loss: 4910210.5000 - val_mae: 474.5961\n",
            "Epoch 46/50\n",
            "225/225 [==============================] - 0s 2ms/step - loss: 1042314.0000 - mae: 445.8645 - val_loss: 4906648.5000 - val_mae: 472.6789\n",
            "Epoch 47/50\n",
            "225/225 [==============================] - 0s 2ms/step - loss: 1040384.1250 - mae: 446.0893 - val_loss: 4902899.0000 - val_mae: 467.9639\n",
            "Epoch 48/50\n",
            "225/225 [==============================] - 0s 2ms/step - loss: 1038488.6875 - mae: 442.7426 - val_loss: 4899625.0000 - val_mae: 466.3690\n",
            "Epoch 49/50\n",
            "225/225 [==============================] - 0s 2ms/step - loss: 1036459.4375 - mae: 441.2436 - val_loss: 4895909.0000 - val_mae: 465.0214\n",
            "Epoch 50/50\n",
            "225/225 [==============================] - 0s 2ms/step - loss: 1034509.3125 - mae: 438.5378 - val_loss: 4891851.5000 - val_mae: 462.2940\n"
          ]
        }
      ]
    },
    {
      "cell_type": "code",
      "source": [
        "import matplotlib.pyplot as plt\n",
        "\n",
        "# Build your plot.\n",
        "loss = history.history['loss']\n",
        "val_loss = history.history['val_loss']\n",
        "epochs = range(1, len(loss) + 1)\n",
        "plt.plot(epochs, loss, 'bo', label='Training loss')\n",
        "plt.plot(epochs, val_loss, 'b', label='Validation loss')\n",
        "plt.title('Training and validation loss')\n",
        "plt.xlabel('Epochs')\n",
        "plt.ylabel('Loss')\n",
        "plt.legend()\n",
        "\n",
        "plt.show()\n"
      ],
      "metadata": {
        "colab": {
          "base_uri": "https://localhost:8080/",
          "height": 472
        },
        "id": "91Fc7kRtgLnf",
        "outputId": "ac05b102-3c1b-4ae1-a87b-862640710cb7"
      },
      "execution_count": 181,
      "outputs": [
        {
          "output_type": "display_data",
          "data": {
            "text/plain": [
              "<Figure size 640x480 with 1 Axes>"
            ],
            "image/png": "[encoded data removed]"
          },
          "metadata": {}
        }
      ]
    }
  ]
}