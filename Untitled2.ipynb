{
  "nbformat": 4,
  "nbformat_minor": 0,
  "metadata": {
    "colab": {
      "provenance": [],
      "toc_visible": true,
      "mount_file_id": "1YkMt8zhCieTruHq8qfDgfPuyWAQhVqu8",
      "authorship_tag": "ABX9TyNwxpTxI2nUWl+9Q7O1qSBh",
      "include_colab_link": true
    },
    "kernelspec": {
      "name": "python3",
      "display_name": "Python 3"
    },
    "language_info": {
      "name": "python"
    }
  },
  "cells": [
    {
      "cell_type": "markdown",
      "metadata": {
        "id": "view-in-github",
        "colab_type": "text"
      },
      "source": [
        "<a href=\"https://colab.research.google.com/github/Brandon12231/780/blob/main/Untitled2.ipynb\" target=\"_parent\"><img src=\"https://colab.research.google.com/assets/colab-badge.svg\" alt=\"Open In Colab\"/></a>"
      ]
    },
    {
      "cell_type": "code",
      "execution_count": 18,
      "metadata": {
        "colab": {
          "base_uri": "https://localhost:8080/"
        },
        "id": "Fc-6tsVp_LjK",
        "outputId": "81e35c70-2c63-4a79-cf00-aa937de75a13"
      },
      "outputs": [
        {
          "output_type": "stream",
          "name": "stdout",
          "text": [
            "Reading package lists... Done\n",
            "Building dependency tree       \n",
            "Reading state information... Done\n",
            "git is already the newest version (1:2.25.1-1ubuntu3.10).\n",
            "0 upgraded, 0 newly installed, 0 to remove and 24 not upgraded.\n"
          ]
        }
      ],
      "source": [
        "!apt-get install git\n"
      ]
    },
    {
      "cell_type": "code",
      "source": [
        "!git clone https://github.com/Brandon12231/BA865-2023/blob/main/Lecture%20Materials/C_Assignment/Individual%20Assignment.ipynb\n"
      ],
      "metadata": {
        "colab": {
          "base_uri": "https://localhost:8080/"
        },
        "id": "ohdryrr-_M-Z",
        "outputId": "e35b5827-65f3-4d76-a23c-bddb5f0234af"
      },
      "execution_count": 19,
      "outputs": [
        {
          "output_type": "stream",
          "name": "stdout",
          "text": [
            "Cloning into 'Individual%20Assignment.ipynb'...\n",
            "fatal: repository 'https://github.com/Brandon12231/BA865-2023/blob/main/Lecture%20Materials/C_Assignment/Individual%20Assignment.ipynb/' not found\n"
          ]
        }
      ]
    },
    {
      "cell_type": "code",
      "source": [
        "import pandas as pd\n",
        "import numpy as np\n",
        "import tensorflow as tf\n",
        "from tensorflow import keras\n",
        "import matplotlib.pyplot as plt\n",
        "\n",
        "\n",
        "# This function MUST return a pair of objects (predictors, labels, in that order) as numpy arrays.\n",
        "\n",
        "from sklearn.preprocessing import StandardScaler\n",
        "\n",
        "bluebikes = pd.read_csv('https://raw.githubusercontent.com/gburtch/BA865-2023/main/Lecture%20Materials/C_Assignment/bluebikes_sample.csv')\n",
        "\n",
        "def processData(data):\n",
        "    # Select the predictors and labels\n",
        "    predictors = data.drop(columns=['tripduration', 'starttime', 'stoptime', 'start station name', 'end station name', 'bikeid'])\n",
        "    labels = data['tripduration']\n",
        "    \n",
        "    # Fill in missing values with the median of the corresponding column\n",
        "    predictors = predictors.fillna(predictors.median())\n",
        "    \n",
        "    # One-hot encode the usertype column\n",
        "    predictors = pd.get_dummies(predictors, columns=['usertype'])\n",
        "    \n",
        "    # Convert to numpy arrays\n",
        "    predictors = predictors.to_numpy()\n",
        "    labels = labels.to_numpy()\n",
        "    \n",
        "    return predictors, labels\n",
        "\n"
      ],
      "metadata": {
        "id": "KwZZPSAw_Z7o"
      },
      "execution_count": 20,
      "outputs": []
    },
    {
      "cell_type": "code",
      "source": [
        "print(bluebikes.dtypes)"
      ],
      "metadata": {
        "colab": {
          "base_uri": "https://localhost:8080/"
        },
        "id": "ZA048BMpSdRu",
        "outputId": "284c77de-227d-4ad0-c376-6d24bd51188a"
      },
      "execution_count": 21,
      "outputs": [
        {
          "output_type": "stream",
          "name": "stdout",
          "text": [
            "tripduration                 int64\n",
            "starttime                   object\n",
            "stoptime                    object\n",
            "start station id             int64\n",
            "start station name          object\n",
            "start station latitude     float64\n",
            "start station longitude    float64\n",
            "end station id               int64\n",
            "end station name            object\n",
            "end station latitude       float64\n",
            "end station longitude      float64\n",
            "bikeid                       int64\n",
            "usertype                    object\n",
            "birth year                   int64\n",
            "gender                       int64\n",
            "dtype: object\n"
          ]
        }
      ]
    },
    {
      "cell_type": "code",
      "source": [
        "predictors, labels = processData(bluebikes)\n",
        "# Fit a standard scaler to the predictors\n",
        "scaler = StandardScaler()\n",
        "scaler.fit(predictors)\n",
        "\n",
        "# Transform the predictors using the scaler\n",
        "predictors = scaler.transform(predictors)\n",
        "\n",
        "# Build and train the model\n",
        "\n",
        "def build_model():\n",
        "    model = keras.Sequential([\n",
        "        keras.layers.Dense(32, activation='relu', input_shape=(predictors.shape[1],)),\n",
        "        keras.layers.Dense(16, activation='relu'),\n",
        "        keras.layers.Dense(1)\n",
        "    ])\n",
        "    \n",
        "    model.compile(loss='mean_squared_error', optimizer='adam', metrics=['mae'])\n",
        "    \n",
        "    return model\n",
        "\n"
      ],
      "metadata": {
        "colab": {
          "base_uri": "https://localhost:8080/"
        },
        "id": "9o5BOvzBHJ6Z",
        "outputId": "0ce8262a-4c7b-4a89-b579-4a3f3b0cb23b"
      },
      "execution_count": 22,
      "outputs": [
        {
          "output_type": "stream",
          "name": "stderr",
          "text": [
            "<ipython-input-20-5054d95cfc4e>:20: FutureWarning: Dropping of nuisance columns in DataFrame reductions (with 'numeric_only=None') is deprecated; in a future version this will raise TypeError.  Select only valid columns before calling the reduction.\n",
            "  predictors = predictors.fillna(predictors.median())\n"
          ]
        }
      ]
    },
    {
      "cell_type": "code",
      "source": [
        "predictors_df = pd.DataFrame(predictors)\n",
        "non_numeric_cols = predictors_df.select_dtypes(exclude=['int', 'float']).columns\n",
        "print(non_numeric_cols)\n",
        "\n"
      ],
      "metadata": {
        "colab": {
          "base_uri": "https://localhost:8080/"
        },
        "id": "Zsxik4MXm7Rp",
        "outputId": "9bc2b229-222f-4537-d8fb-0dbd7a8e3687"
      },
      "execution_count": 23,
      "outputs": [
        {
          "output_type": "stream",
          "name": "stdout",
          "text": [
            "RangeIndex(start=0, stop=0, step=1)\n"
          ]
        }
      ]
    },
    {
      "cell_type": "code",
      "source": [
        "model = build_model()\n",
        "\n",
        "# Train the model using the preprocessed data\n",
        "history = model.fit(predictors, labels, epochs=50, batch_size=32, validation_split=0.2)\n",
        "\n",
        "\n",
        "\n"
      ],
      "metadata": {
        "colab": {
          "base_uri": "https://localhost:8080/"
        },
        "id": "V_AWsgJtH_Jr",
        "outputId": "3f7d137c-3ce9-441d-8f68-e7727ef5d054"
      },
      "execution_count": 24,
      "outputs": [
        {
          "output_type": "stream",
          "name": "stdout",
          "text": [
            "Epoch 1/50\n",
            "225/225 [==============================] - 1s 3ms/step - loss: 1880136.2500 - mae: 838.4774 - val_loss: 5742068.0000 - val_mae: 826.2032\n",
            "Epoch 2/50\n",
            "225/225 [==============================] - 0s 2ms/step - loss: 1698063.3750 - mae: 735.5618 - val_loss: 5396539.0000 - val_mae: 636.5467\n",
            "Epoch 3/50\n",
            "225/225 [==============================] - 0s 2ms/step - loss: 1318736.7500 - mae: 535.9961 - val_loss: 5073293.0000 - val_mae: 504.0852\n",
            "Epoch 4/50\n",
            "225/225 [==============================] - 1s 2ms/step - loss: 1139184.2500 - mae: 479.6100 - val_loss: 5007291.5000 - val_mae: 506.0636\n",
            "Epoch 5/50\n",
            "225/225 [==============================] - 1s 2ms/step - loss: 1107293.6250 - mae: 483.0377 - val_loss: 4996869.0000 - val_mae: 513.5737\n",
            "Epoch 6/50\n",
            "225/225 [==============================] - 0s 2ms/step - loss: 1100660.6250 - mae: 488.1419 - val_loss: 4992732.5000 - val_mae: 516.4031\n",
            "Epoch 7/50\n",
            "225/225 [==============================] - 1s 3ms/step - loss: 1097727.2500 - mae: 488.3820 - val_loss: 4989052.5000 - val_mae: 513.1340\n",
            "Epoch 8/50\n",
            "225/225 [==============================] - 1s 2ms/step - loss: 1094810.5000 - mae: 486.8599 - val_loss: 4985946.5000 - val_mae: 511.4321\n",
            "Epoch 9/50\n",
            "225/225 [==============================] - 1s 3ms/step - loss: 1092680.0000 - mae: 485.9164 - val_loss: 4982324.5000 - val_mae: 508.9680\n",
            "Epoch 10/50\n",
            "225/225 [==============================] - 1s 3ms/step - loss: 1090517.7500 - mae: 483.1692 - val_loss: 4979834.5000 - val_mae: 512.2698\n",
            "Epoch 11/50\n",
            "225/225 [==============================] - 0s 2ms/step - loss: 1088799.7500 - mae: 485.0743 - val_loss: 4976872.0000 - val_mae: 509.6069\n",
            "Epoch 12/50\n",
            "225/225 [==============================] - 0s 2ms/step - loss: 1087368.7500 - mae: 481.6044 - val_loss: 4972844.5000 - val_mae: 504.7943\n",
            "Epoch 13/50\n",
            "225/225 [==============================] - 1s 2ms/step - loss: 1085882.6250 - mae: 481.4328 - val_loss: 4972569.5000 - val_mae: 508.7032\n",
            "Epoch 14/50\n",
            "225/225 [==============================] - 1s 2ms/step - loss: 1083517.8750 - mae: 483.5280 - val_loss: 4969441.5000 - val_mae: 501.1211\n",
            "Epoch 15/50\n",
            "225/225 [==============================] - 1s 3ms/step - loss: 1082549.8750 - mae: 476.3580 - val_loss: 4967058.0000 - val_mae: 502.7232\n",
            "Epoch 16/50\n",
            "225/225 [==============================] - 1s 3ms/step - loss: 1080779.1250 - mae: 479.2674 - val_loss: 4964771.5000 - val_mae: 502.6201\n",
            "Epoch 17/50\n",
            "225/225 [==============================] - 1s 3ms/step - loss: 1079089.8750 - mae: 477.4118 - val_loss: 4962017.5000 - val_mae: 499.0243\n",
            "Epoch 18/50\n",
            "225/225 [==============================] - 1s 3ms/step - loss: 1077760.1250 - mae: 477.6433 - val_loss: 4959924.5000 - val_mae: 497.4247\n",
            "Epoch 19/50\n",
            "225/225 [==============================] - 1s 3ms/step - loss: 1076215.6250 - mae: 471.8054 - val_loss: 4956800.0000 - val_mae: 499.0943\n",
            "Epoch 20/50\n",
            "225/225 [==============================] - 1s 3ms/step - loss: 1074261.2500 - mae: 476.0794 - val_loss: 4954689.0000 - val_mae: 494.9214\n",
            "Epoch 21/50\n",
            "225/225 [==============================] - 1s 3ms/step - loss: 1072508.5000 - mae: 467.8161 - val_loss: 4952192.5000 - val_mae: 497.4755\n",
            "Epoch 22/50\n",
            "225/225 [==============================] - 1s 2ms/step - loss: 1071038.6250 - mae: 473.2556 - val_loss: 4948931.5000 - val_mae: 496.0792\n",
            "Epoch 23/50\n",
            "225/225 [==============================] - 0s 2ms/step - loss: 1069379.8750 - mae: 468.0785 - val_loss: 4946268.5000 - val_mae: 494.9370\n",
            "Epoch 24/50\n",
            "225/225 [==============================] - 1s 2ms/step - loss: 1067773.1250 - mae: 468.5867 - val_loss: 4943961.5000 - val_mae: 492.2922\n",
            "Epoch 25/50\n",
            "225/225 [==============================] - 1s 2ms/step - loss: 1065522.0000 - mae: 465.1474 - val_loss: 4941203.5000 - val_mae: 494.9225\n",
            "Epoch 26/50\n",
            "225/225 [==============================] - 1s 2ms/step - loss: 1064162.3750 - mae: 467.2626 - val_loss: 4937654.0000 - val_mae: 490.3025\n",
            "Epoch 27/50\n",
            "225/225 [==============================] - 0s 2ms/step - loss: 1062074.8750 - mae: 463.1049 - val_loss: 4933946.0000 - val_mae: 487.0106\n",
            "Epoch 28/50\n",
            "225/225 [==============================] - 1s 2ms/step - loss: 1059937.3750 - mae: 463.4360 - val_loss: 4931451.0000 - val_mae: 485.4458\n",
            "Epoch 29/50\n",
            "225/225 [==============================] - 1s 2ms/step - loss: 1058222.3750 - mae: 457.9815 - val_loss: 4928033.0000 - val_mae: 484.1122\n",
            "Epoch 30/50\n",
            "225/225 [==============================] - 1s 3ms/step - loss: 1055962.5000 - mae: 459.4883 - val_loss: 4925082.5000 - val_mae: 482.3560\n",
            "Epoch 31/50\n",
            "225/225 [==============================] - 0s 2ms/step - loss: 1054085.5000 - mae: 455.2600 - val_loss: 4921287.5000 - val_mae: 483.1842\n",
            "Epoch 32/50\n",
            "225/225 [==============================] - 1s 3ms/step - loss: 1051972.7500 - mae: 454.4200 - val_loss: 4918085.0000 - val_mae: 479.4418\n",
            "Epoch 33/50\n",
            "225/225 [==============================] - 1s 2ms/step - loss: 1049764.6250 - mae: 452.7403 - val_loss: 4914621.0000 - val_mae: 478.2802\n",
            "Epoch 34/50\n",
            "225/225 [==============================] - 1s 2ms/step - loss: 1048068.5000 - mae: 449.9017 - val_loss: 4911391.5000 - val_mae: 474.8944\n",
            "Epoch 35/50\n",
            "225/225 [==============================] - 1s 2ms/step - loss: 1045254.8125 - mae: 447.2388 - val_loss: 4906243.5000 - val_mae: 473.6546\n",
            "Epoch 36/50\n",
            "225/225 [==============================] - 1s 3ms/step - loss: 1042845.9375 - mae: 448.8432 - val_loss: 4902568.0000 - val_mae: 468.4414\n",
            "Epoch 37/50\n",
            "225/225 [==============================] - 1s 3ms/step - loss: 1039957.1875 - mae: 444.8481 - val_loss: 4898144.5000 - val_mae: 465.3049\n",
            "Epoch 38/50\n",
            "225/225 [==============================] - 0s 2ms/step - loss: 1037561.1875 - mae: 438.9404 - val_loss: 4892965.0000 - val_mae: 465.5193\n",
            "Epoch 39/50\n",
            "225/225 [==============================] - 1s 2ms/step - loss: 1034719.9375 - mae: 441.2958 - val_loss: 4888809.0000 - val_mae: 459.2716\n",
            "Epoch 40/50\n",
            "225/225 [==============================] - 1s 2ms/step - loss: 1032412.8125 - mae: 434.4738 - val_loss: 4884170.5000 - val_mae: 458.7715\n",
            "Epoch 41/50\n",
            "225/225 [==============================] - 1s 3ms/step - loss: 1029173.0000 - mae: 432.9836 - val_loss: 4879261.0000 - val_mae: 456.8283\n",
            "Epoch 42/50\n",
            "225/225 [==============================] - 1s 3ms/step - loss: 1026979.4375 - mae: 431.6792 - val_loss: 4873959.5000 - val_mae: 452.0136\n",
            "Epoch 43/50\n",
            "225/225 [==============================] - 1s 3ms/step - loss: 1024079.5625 - mae: 426.9508 - val_loss: 4868992.5000 - val_mae: 451.5617\n",
            "Epoch 44/50\n",
            "225/225 [==============================] - 1s 3ms/step - loss: 1020879.8750 - mae: 424.9342 - val_loss: 4863819.5000 - val_mae: 449.5214\n",
            "Epoch 45/50\n",
            "225/225 [==============================] - 1s 3ms/step - loss: 1017902.3125 - mae: 422.0674 - val_loss: 4858021.0000 - val_mae: 447.8490\n",
            "Epoch 46/50\n",
            "225/225 [==============================] - 1s 3ms/step - loss: 1015466.9375 - mae: 419.7473 - val_loss: 4852427.0000 - val_mae: 444.6839\n",
            "Epoch 47/50\n",
            "225/225 [==============================] - 1s 3ms/step - loss: 1012620.5000 - mae: 419.7494 - val_loss: 4846556.0000 - val_mae: 437.5044\n",
            "Epoch 48/50\n",
            "225/225 [==============================] - 1s 2ms/step - loss: 1010465.7500 - mae: 411.9771 - val_loss: 4841103.0000 - val_mae: 437.4232\n",
            "Epoch 49/50\n",
            "225/225 [==============================] - 1s 2ms/step - loss: 1007561.0000 - mae: 411.9696 - val_loss: 4835897.0000 - val_mae: 434.5478\n",
            "Epoch 50/50\n",
            "225/225 [==============================] - 1s 2ms/step - loss: 1005200.1875 - mae: 409.3545 - val_loss: 4830729.5000 - val_mae: 433.6992\n"
          ]
        }
      ]
    },
    {
      "cell_type": "code",
      "source": [
        "import matplotlib.pyplot as plt\n",
        "\n",
        "# Build your plot.\n",
        "loss = history.history['loss']\n",
        "val_loss = history.history['val_loss']\n",
        "epochs = range(1, len(loss) + 1)\n",
        "plt.plot(epochs, loss, 'bo', label='Training loss')\n",
        "plt.plot(epochs, val_loss, 'b', label='Validation loss')\n",
        "plt.title('Training and validation loss')\n",
        "plt.xlabel('Epochs')\n",
        "plt.ylabel('Loss')\n",
        "plt.legend()\n",
        "\n",
        "plt.show()\n"
      ],
      "metadata": {
        "colab": {
          "base_uri": "https://localhost:8080/",
          "height": 472
        },
        "id": "91Fc7kRtgLnf",
        "outputId": "30f58e4b-8632-4b98-89ce-2a10c79b3c35"
      },
      "execution_count": 8,
      "outputs": [
        {
          "output_type": "display_data",
          "data": {
            "text/plain": [
              "<Figure size 640x480 with 1 Axes>"
            ],
            "image/png": "[encoded data removed]"
          },
          "metadata": {}
        }
      ]
    },
    {
      "cell_type": "code",
      "source": [
        "from tensorflow.keras.models import Sequential\n",
        "from keras.layers import Conv1D, MaxPooling1D, Flatten, Dense\n",
        "from tensorflow.keras import layers\n",
        "# Reshape predictors to match expected input shape of the model\n",
        "num_samples = predictors.shape[0]\n",
        "num_features = predictors.shape[1]\n",
        "predictors = predictors.reshape(num_samples, num_features, 1)\n",
        "\n",
        "# Define the model\n",
        "model = Sequential()\n",
        "model.add(Conv1D(32, kernel_size=3, activation='relu', input_shape=(num_features, 1)))\n",
        "model.add(Conv1D(32, kernel_size=3, activation='relu'))\n",
        "model.add(MaxPooling1D(pool_size=2))\n",
        "model.add(Flatten())\n",
        "model.add(Dense(1, activation='sigmoid'))\n",
        "\n",
        "# Compile the model\n",
        "model.compile(optimizer='adam', loss='binary_crossentropy', metrics=['accuracy'])\n",
        "\n",
        "# Fit the model to the training data\n",
        "history = model.fit(predictors, labels, epochs=80, batch_size=50, validation_split=0.2)"
      ],
      "metadata": {
        "colab": {
          "base_uri": "https://localhost:8080/"
        },
        "id": "GKHoBuyrFUvo",
        "outputId": "01f12521-e961-4bce-b725-ea6131ccbfa4"
      },
      "execution_count": 28,
      "outputs": [
        {
          "output_type": "stream",
          "name": "stdout",
          "text": [
            "Epoch 1/80\n",
            "144/144 [==============================] - 2s 5ms/step - loss: -25006.9492 - accuracy: 0.0000e+00 - val_loss: -114125.1172 - val_accuracy: 0.0000e+00\n",
            "Epoch 2/80\n",
            "144/144 [==============================] - 1s 4ms/step - loss: -542376.0000 - accuracy: 0.0000e+00 - val_loss: -1331003.1250 - val_accuracy: 0.0000e+00\n",
            "Epoch 3/80\n",
            "144/144 [==============================] - 0s 3ms/step - loss: -2849776.7500 - accuracy: 0.0000e+00 - val_loss: -5152041.5000 - val_accuracy: 0.0000e+00\n",
            "Epoch 4/80\n",
            "144/144 [==============================] - 0s 3ms/step - loss: -8341504.5000 - accuracy: 0.0000e+00 - val_loss: -12921834.0000 - val_accuracy: 0.0000e+00\n",
            "Epoch 5/80\n",
            "144/144 [==============================] - 1s 4ms/step - loss: -18294706.0000 - accuracy: 0.0000e+00 - val_loss: -25905718.0000 - val_accuracy: 0.0000e+00\n",
            "Epoch 6/80\n",
            "144/144 [==============================] - 1s 5ms/step - loss: -33589368.0000 - accuracy: 0.0000e+00 - val_loss: -44685468.0000 - val_accuracy: 0.0000e+00\n",
            "Epoch 7/80\n",
            "144/144 [==============================] - 1s 5ms/step - loss: -55141124.0000 - accuracy: 0.0000e+00 - val_loss: -70418704.0000 - val_accuracy: 0.0000e+00\n",
            "Epoch 8/80\n",
            "144/144 [==============================] - 1s 5ms/step - loss: -83614888.0000 - accuracy: 0.0000e+00 - val_loss: -103316704.0000 - val_accuracy: 0.0000e+00\n",
            "Epoch 9/80\n",
            "144/144 [==============================] - 1s 5ms/step - loss: -119568080.0000 - accuracy: 0.0000e+00 - val_loss: -144450288.0000 - val_accuracy: 0.0000e+00\n",
            "Epoch 10/80\n",
            "144/144 [==============================] - 1s 5ms/step - loss: -163355520.0000 - accuracy: 0.0000e+00 - val_loss: -193646512.0000 - val_accuracy: 0.0000e+00\n",
            "Epoch 11/80\n",
            "144/144 [==============================] - 1s 5ms/step - loss: -215439808.0000 - accuracy: 0.0000e+00 - val_loss: -251664448.0000 - val_accuracy: 0.0000e+00\n",
            "Epoch 12/80\n",
            "144/144 [==============================] - 1s 5ms/step - loss: -276355968.0000 - accuracy: 0.0000e+00 - val_loss: -318865216.0000 - val_accuracy: 0.0000e+00\n",
            "Epoch 13/80\n",
            "144/144 [==============================] - 0s 3ms/step - loss: -346404320.0000 - accuracy: 0.0000e+00 - val_loss: -395607296.0000 - val_accuracy: 0.0000e+00\n",
            "Epoch 14/80\n",
            "144/144 [==============================] - 1s 4ms/step - loss: -426350208.0000 - accuracy: 0.0000e+00 - val_loss: -481907904.0000 - val_accuracy: 0.0000e+00\n",
            "Epoch 15/80\n",
            "144/144 [==============================] - 0s 3ms/step - loss: -516222272.0000 - accuracy: 0.0000e+00 - val_loss: -579652160.0000 - val_accuracy: 0.0000e+00\n",
            "Epoch 16/80\n",
            "144/144 [==============================] - 0s 3ms/step - loss: -616093568.0000 - accuracy: 0.0000e+00 - val_loss: -687199424.0000 - val_accuracy: 0.0000e+00\n",
            "Epoch 17/80\n",
            "144/144 [==============================] - 0s 3ms/step - loss: -726150720.0000 - accuracy: 0.0000e+00 - val_loss: -805653120.0000 - val_accuracy: 0.0000e+00\n",
            "Epoch 18/80\n",
            "144/144 [==============================] - 1s 4ms/step - loss: -846882240.0000 - accuracy: 0.0000e+00 - val_loss: -935362496.0000 - val_accuracy: 0.0000e+00\n",
            "Epoch 19/80\n",
            "144/144 [==============================] - 1s 4ms/step - loss: -978645312.0000 - accuracy: 0.0000e+00 - val_loss: -1075397888.0000 - val_accuracy: 0.0000e+00\n",
            "Epoch 20/80\n",
            "144/144 [==============================] - 1s 4ms/step - loss: -1121505408.0000 - accuracy: 0.0000e+00 - val_loss: -1226931840.0000 - val_accuracy: 0.0000e+00\n",
            "Epoch 21/80\n",
            "144/144 [==============================] - 0s 3ms/step - loss: -1275498240.0000 - accuracy: 0.0000e+00 - val_loss: -1391171968.0000 - val_accuracy: 0.0000e+00\n",
            "Epoch 22/80\n",
            "144/144 [==============================] - 1s 4ms/step - loss: -1440806144.0000 - accuracy: 0.0000e+00 - val_loss: -1565908992.0000 - val_accuracy: 0.0000e+00\n",
            "Epoch 23/80\n",
            "144/144 [==============================] - 1s 4ms/step - loss: -1616923264.0000 - accuracy: 0.0000e+00 - val_loss: -1752367104.0000 - val_accuracy: 0.0000e+00\n",
            "Epoch 24/80\n",
            "144/144 [==============================] - 1s 4ms/step - loss: -1804526592.0000 - accuracy: 0.0000e+00 - val_loss: -1951207936.0000 - val_accuracy: 0.0000e+00\n",
            "Epoch 25/80\n",
            "144/144 [==============================] - 0s 3ms/step - loss: -2004645504.0000 - accuracy: 0.0000e+00 - val_loss: -2161953280.0000 - val_accuracy: 0.0000e+00\n",
            "Epoch 26/80\n",
            "144/144 [==============================] - 1s 4ms/step - loss: -2216977920.0000 - accuracy: 0.0000e+00 - val_loss: -2385019136.0000 - val_accuracy: 0.0000e+00\n",
            "Epoch 27/80\n",
            "144/144 [==============================] - 1s 4ms/step - loss: -2441773312.0000 - accuracy: 0.0000e+00 - val_loss: -2621211648.0000 - val_accuracy: 0.0000e+00\n",
            "Epoch 28/80\n",
            "144/144 [==============================] - 1s 4ms/step - loss: -2679336192.0000 - accuracy: 0.0000e+00 - val_loss: -2869875200.0000 - val_accuracy: 0.0000e+00\n",
            "Epoch 29/80\n",
            "144/144 [==============================] - 0s 3ms/step - loss: -2929440000.0000 - accuracy: 0.0000e+00 - val_loss: -3132591360.0000 - val_accuracy: 0.0000e+00\n",
            "Epoch 30/80\n",
            "144/144 [==============================] - 1s 4ms/step - loss: -3192044544.0000 - accuracy: 0.0000e+00 - val_loss: -3406979840.0000 - val_accuracy: 0.0000e+00\n",
            "Epoch 31/80\n",
            "144/144 [==============================] - 0s 3ms/step - loss: -3467825408.0000 - accuracy: 0.0000e+00 - val_loss: -3695598592.0000 - val_accuracy: 0.0000e+00\n",
            "Epoch 32/80\n",
            "144/144 [==============================] - 1s 5ms/step - loss: -3756514560.0000 - accuracy: 0.0000e+00 - val_loss: -3997723136.0000 - val_accuracy: 0.0000e+00\n",
            "Epoch 33/80\n",
            "144/144 [==============================] - 1s 5ms/step - loss: -4058063872.0000 - accuracy: 0.0000e+00 - val_loss: -4314335232.0000 - val_accuracy: 0.0000e+00\n",
            "Epoch 34/80\n",
            "144/144 [==============================] - 1s 5ms/step - loss: -4373478912.0000 - accuracy: 0.0000e+00 - val_loss: -4642910208.0000 - val_accuracy: 0.0000e+00\n",
            "Epoch 35/80\n",
            "144/144 [==============================] - 1s 5ms/step - loss: -4703124480.0000 - accuracy: 0.0000e+00 - val_loss: -4987082240.0000 - val_accuracy: 0.0000e+00\n",
            "Epoch 36/80\n",
            "144/144 [==============================] - 1s 5ms/step - loss: -5046049280.0000 - accuracy: 0.0000e+00 - val_loss: -5346302976.0000 - val_accuracy: 0.0000e+00\n",
            "Epoch 37/80\n",
            "144/144 [==============================] - 1s 5ms/step - loss: -5403650048.0000 - accuracy: 0.0000e+00 - val_loss: -5714185216.0000 - val_accuracy: 0.0000e+00\n",
            "Epoch 38/80\n",
            "144/144 [==============================] - 1s 5ms/step - loss: -5774223872.0000 - accuracy: 0.0000e+00 - val_loss: -6105846272.0000 - val_accuracy: 0.0000e+00\n",
            "Epoch 39/80\n",
            "144/144 [==============================] - 1s 4ms/step - loss: -6159439360.0000 - accuracy: 0.0000e+00 - val_loss: -6504574464.0000 - val_accuracy: 0.0000e+00\n",
            "Epoch 40/80\n",
            "144/144 [==============================] - 0s 3ms/step - loss: -6559100416.0000 - accuracy: 0.0000e+00 - val_loss: -6919391744.0000 - val_accuracy: 0.0000e+00\n",
            "Epoch 41/80\n",
            "144/144 [==============================] - 1s 4ms/step - loss: -6973369856.0000 - accuracy: 0.0000e+00 - val_loss: -7349039616.0000 - val_accuracy: 0.0000e+00\n",
            "Epoch 42/80\n",
            "144/144 [==============================] - 0s 3ms/step - loss: -7402742784.0000 - accuracy: 0.0000e+00 - val_loss: -7794238976.0000 - val_accuracy: 0.0000e+00\n",
            "Epoch 43/80\n",
            "144/144 [==============================] - 0s 3ms/step - loss: -7847381504.0000 - accuracy: 0.0000e+00 - val_loss: -8259755520.0000 - val_accuracy: 0.0000e+00\n",
            "Epoch 44/80\n",
            "144/144 [==============================] - 0s 3ms/step - loss: -8307309056.0000 - accuracy: 0.0000e+00 - val_loss: -8737316864.0000 - val_accuracy: 0.0000e+00\n",
            "Epoch 45/80\n",
            "144/144 [==============================] - 0s 3ms/step - loss: -8782840832.0000 - accuracy: 0.0000e+00 - val_loss: -9229455360.0000 - val_accuracy: 0.0000e+00\n",
            "Epoch 46/80\n",
            "144/144 [==============================] - 0s 3ms/step - loss: -9273763840.0000 - accuracy: 0.0000e+00 - val_loss: -9740024832.0000 - val_accuracy: 0.0000e+00\n",
            "Epoch 47/80\n",
            "144/144 [==============================] - 1s 3ms/step - loss: -9780425728.0000 - accuracy: 0.0000e+00 - val_loss: -10267086848.0000 - val_accuracy: 0.0000e+00\n",
            "Epoch 48/80\n",
            "144/144 [==============================] - 0s 3ms/step - loss: -10302257152.0000 - accuracy: 0.0000e+00 - val_loss: -10808197120.0000 - val_accuracy: 0.0000e+00\n",
            "Epoch 49/80\n",
            "144/144 [==============================] - 1s 4ms/step - loss: -10838980608.0000 - accuracy: 0.0000e+00 - val_loss: -11364982784.0000 - val_accuracy: 0.0000e+00\n",
            "Epoch 50/80\n",
            "144/144 [==============================] - 0s 3ms/step - loss: -11392798720.0000 - accuracy: 0.0000e+00 - val_loss: -11940957184.0000 - val_accuracy: 0.0000e+00\n",
            "Epoch 51/80\n",
            "144/144 [==============================] - 0s 3ms/step - loss: -11964018688.0000 - accuracy: 0.0000e+00 - val_loss: -12531238912.0000 - val_accuracy: 0.0000e+00\n",
            "Epoch 52/80\n",
            "144/144 [==============================] - 0s 3ms/step - loss: -12551884800.0000 - accuracy: 0.0000e+00 - val_loss: -13142656000.0000 - val_accuracy: 0.0000e+00\n",
            "Epoch 53/80\n",
            "144/144 [==============================] - 1s 4ms/step - loss: -13157872640.0000 - accuracy: 0.0000e+00 - val_loss: -13769995264.0000 - val_accuracy: 0.0000e+00\n",
            "Epoch 54/80\n",
            "144/144 [==============================] - 0s 3ms/step - loss: -13781226496.0000 - accuracy: 0.0000e+00 - val_loss: -14409863168.0000 - val_accuracy: 0.0000e+00\n",
            "Epoch 55/80\n",
            "144/144 [==============================] - 1s 4ms/step - loss: -14421578752.0000 - accuracy: 0.0000e+00 - val_loss: -15077024768.0000 - val_accuracy: 0.0000e+00\n",
            "Epoch 56/80\n",
            "144/144 [==============================] - 0s 3ms/step - loss: -15079849984.0000 - accuracy: 0.0000e+00 - val_loss: -15759254528.0000 - val_accuracy: 0.0000e+00\n",
            "Epoch 57/80\n",
            "144/144 [==============================] - 1s 4ms/step - loss: -15754872832.0000 - accuracy: 0.0000e+00 - val_loss: -16457562112.0000 - val_accuracy: 0.0000e+00\n",
            "Epoch 58/80\n",
            "144/144 [==============================] - 1s 4ms/step - loss: -16447801344.0000 - accuracy: 0.0000e+00 - val_loss: -17180424192.0000 - val_accuracy: 0.0000e+00\n",
            "Epoch 59/80\n",
            "144/144 [==============================] - 1s 5ms/step - loss: -17159303168.0000 - accuracy: 0.0000e+00 - val_loss: -17910460416.0000 - val_accuracy: 0.0000e+00\n",
            "Epoch 60/80\n",
            "144/144 [==============================] - 1s 6ms/step - loss: -17887191040.0000 - accuracy: 0.0000e+00 - val_loss: -18663657472.0000 - val_accuracy: 0.0000e+00\n",
            "Epoch 61/80\n",
            "144/144 [==============================] - 1s 5ms/step - loss: -18634344448.0000 - accuracy: 0.0000e+00 - val_loss: -19438372864.0000 - val_accuracy: 0.0000e+00\n",
            "Epoch 62/80\n",
            "144/144 [==============================] - 1s 5ms/step - loss: -19400757248.0000 - accuracy: 0.0000e+00 - val_loss: -20231127040.0000 - val_accuracy: 0.0000e+00\n",
            "Epoch 63/80\n",
            "144/144 [==============================] - 1s 5ms/step - loss: -20185657344.0000 - accuracy: 0.0000e+00 - val_loss: -21042276352.0000 - val_accuracy: 0.0000e+00\n",
            "Epoch 64/80\n",
            "144/144 [==============================] - 1s 5ms/step - loss: -20990633984.0000 - accuracy: 0.0000e+00 - val_loss: -21866749952.0000 - val_accuracy: 0.0000e+00\n",
            "Epoch 65/80\n",
            "144/144 [==============================] - 0s 3ms/step - loss: -21814249472.0000 - accuracy: 0.0000e+00 - val_loss: -22726209536.0000 - val_accuracy: 0.0000e+00\n",
            "Epoch 66/80\n",
            "144/144 [==============================] - 0s 3ms/step - loss: -22657374208.0000 - accuracy: 0.0000e+00 - val_loss: -23598839808.0000 - val_accuracy: 0.0000e+00\n",
            "Epoch 67/80\n",
            "144/144 [==============================] - 0s 3ms/step - loss: -23519148032.0000 - accuracy: 0.0000e+00 - val_loss: -24485234688.0000 - val_accuracy: 0.0000e+00\n",
            "Epoch 68/80\n",
            "144/144 [==============================] - 0s 3ms/step - loss: -24400818176.0000 - accuracy: 0.0000e+00 - val_loss: -25397501952.0000 - val_accuracy: 0.0000e+00\n",
            "Epoch 69/80\n",
            "144/144 [==============================] - 0s 3ms/step - loss: -25304537088.0000 - accuracy: 0.0000e+00 - val_loss: -26326439936.0000 - val_accuracy: 0.0000e+00\n",
            "Epoch 70/80\n",
            "144/144 [==============================] - 0s 3ms/step - loss: -26227062784.0000 - accuracy: 0.0000e+00 - val_loss: -27285735424.0000 - val_accuracy: 0.0000e+00\n",
            "Epoch 71/80\n",
            "144/144 [==============================] - 0s 3ms/step - loss: -27171235840.0000 - accuracy: 0.0000e+00 - val_loss: -28254910464.0000 - val_accuracy: 0.0000e+00\n",
            "Epoch 72/80\n",
            "144/144 [==============================] - 0s 3ms/step - loss: -28135743488.0000 - accuracy: 0.0000e+00 - val_loss: -29251436544.0000 - val_accuracy: 0.0000e+00\n",
            "Epoch 73/80\n",
            "144/144 [==============================] - 1s 4ms/step - loss: -29120405504.0000 - accuracy: 0.0000e+00 - val_loss: -30268182528.0000 - val_accuracy: 0.0000e+00\n",
            "Epoch 74/80\n",
            "144/144 [==============================] - 1s 4ms/step - loss: -30125852672.0000 - accuracy: 0.0000e+00 - val_loss: -31311771648.0000 - val_accuracy: 0.0000e+00\n",
            "Epoch 75/80\n",
            "144/144 [==============================] - 1s 4ms/step - loss: -31153256448.0000 - accuracy: 0.0000e+00 - val_loss: -32367429632.0000 - val_accuracy: 0.0000e+00\n",
            "Epoch 76/80\n",
            "144/144 [==============================] - 1s 4ms/step - loss: -32201091072.0000 - accuracy: 0.0000e+00 - val_loss: -33449787392.0000 - val_accuracy: 0.0000e+00\n",
            "Epoch 77/80\n",
            "144/144 [==============================] - 1s 4ms/step - loss: -33271252992.0000 - accuracy: 0.0000e+00 - val_loss: -34552287232.0000 - val_accuracy: 0.0000e+00\n",
            "Epoch 78/80\n",
            "144/144 [==============================] - 1s 5ms/step - loss: -34361417728.0000 - accuracy: 0.0000e+00 - val_loss: -35680821248.0000 - val_accuracy: 0.0000e+00\n",
            "Epoch 79/80\n",
            "144/144 [==============================] - 1s 4ms/step - loss: -35473203200.0000 - accuracy: 0.0000e+00 - val_loss: -36828958720.0000 - val_accuracy: 0.0000e+00\n",
            "Epoch 80/80\n",
            "144/144 [==============================] - 1s 4ms/step - loss: -36608483328.0000 - accuracy: 0.0000e+00 - val_loss: -38000660480.0000 - val_accuracy: 0.0000e+00\n"
          ]
        }
      ]
    },
    {
      "cell_type": "code",
      "source": [
        "# Build your plot.\n",
        "loss = history.history['loss']\n",
        "val_loss = history.history['val_loss']\n",
        "epochs = range(1, len(loss) + 1)\n",
        "plt.plot(epochs, loss, 'bo', label='Training loss')\n",
        "plt.plot(epochs, val_loss, 'b', label='Validation loss')\n",
        "plt.title('Training and validation loss')\n",
        "plt.xlabel('Epochs')\n",
        "plt.ylabel('Loss')\n",
        "plt.legend()\n",
        "\n",
        "plt.show()"
      ],
      "metadata": {
        "colab": {
          "base_uri": "https://localhost:8080/",
          "height": 472
        },
        "id": "pqwt3ARwkyxZ",
        "outputId": "76154e6e-c01e-43cd-dd38-1f7554ea4d97"
      },
      "execution_count": 29,
      "outputs": [
        {
          "output_type": "display_data",
          "data": {
            "text/plain": [
              "<Figure size 640x480 with 1 Axes>"
            ],
            "image/png": "[encoded data removed]"
          },
          "metadata": {}
        }
      ]
    },
    {
      "cell_type": "code",
      "source": [
        "model.summary()\n",
        "     "
      ],
      "metadata": {
        "id": "fzT3Gg49FuQg"
      },
      "execution_count": null,
      "outputs": []
    },
    {
      "cell_type": "code",
      "source": [
        "from google.colab import files\n",
        "import io\n",
        "\n",
        "# I'm going to upload my holdout dataset (same set of features)\n",
        "uploaded = files.upload()\n",
        "bluebike_holdout = pd.read_csv(io.BytesIO(uploaded['bluebikes_holdout.csv']))\n",
        "\n",
        "# I'm then going to pre-process it using your commands.\n",
        "holdout_predictors, holdout_labels = processData(bluebike_holdout)\n",
        "\n",
        "# Then I'm going to evaluate your model's performance on that data.\n",
        "loss_metrics = model.evaluate(holdout_predictors,holdout_labels,verbose=1)\n",
        "     "
      ],
      "metadata": {
        "id": "2jAFPqgiHc_K"
      },
      "execution_count": null,
      "outputs": []
    }
  ]
}