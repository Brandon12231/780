{
  "nbformat": 4,
  "nbformat_minor": 0,
  "metadata": {
    "colab": {
      "provenance": [],
      "include_colab_link": true
    },
    "kernelspec": {
      "name": "python3",
      "display_name": "Python 3"
    },
    "language_info": {
      "name": "python"
    }
  },
  "cells": [
    {
      "cell_type": "markdown",
      "metadata": {
        "id": "view-in-github",
        "colab_type": "text"
      },
      "source": [
        "<a href=\"https://colab.research.google.com/github/Brandon12231/780/blob/main/Example_GlassMaking_Pyomo.ipynb\" target=\"_parent\"><img src=\"https://colab.research.google.com/assets/colab-badge.svg\" alt=\"Open In Colab\"/></a>"
      ]
    },
    {
      "cell_type": "markdown",
      "source": [
        "# The Glass Maker's Problem\n",
        "\n",
        "In the following code, we'll implement the glass maker's problem in Pyomo. The model is:\n",
        "\n",
        "By changing the\n",
        "\n",
        "**Decision variables**\n",
        "\n",
        "$x_1$ = 100s of cases of six ounce glasses to produce and\n",
        "\n",
        "$x_2$ = 100s of cases of ten ounce glasses to produce\n",
        "\n",
        "**Objective**\n",
        "\n",
        "Maximize revenue\n",
        "$$\n",
        "z = 500 x_1 + 450 x_2\n",
        "$$\n",
        "\n",
        "**Constraint**\n",
        "\n",
        "Subject to\n",
        "\n",
        "$$\n",
        "\\begin{align}\n",
        "6 x_1   & + & 5 x_2   & \\le 60  & \\text{(hours)}\\\\\n",
        "10 x_1  & + & 20 x_2  & \\le 150 & \\text{(storage)}\\\\\n",
        "x_1     &   &         & \\le 8  & \\text{(demand)}\n",
        "\\end{align}\n",
        "$$\n",
        "constraints.\n"
      ],
      "metadata": {
        "id": "s77505aEeUB0"
      }
    },
    {
      "cell_type": "markdown",
      "source": [
        "Install Pyomo and a few optimization engines."
      ],
      "metadata": {
        "id": "7uDAHgewfUeA"
      }
    },
    {
      "cell_type": "code",
      "execution_count": null,
      "metadata": {
        "id": "bhUZqqF8eQBg"
      },
      "outputs": [],
      "source": [
        "%%capture\n",
        "import sys\n",
        "import os\n",
        "\n",
        "if 'google.colab' in sys.modules:\n",
        "    !pip install idaes-pse --pre    # Installs a set of good open source optimization tools\n",
        "    !idaes get-extensions --to ./bin\n",
        "    os.environ['PATH'] += ':bin'    # Add to path so we can find it\n",
        "\n",
        "import pyomo.environ as pyo         # Import pyomo"
      ]
    },
    {
      "cell_type": "markdown",
      "source": [
        "Instantiate an engine that we can use to optimize."
      ],
      "metadata": {
        "id": "y4HC3EBeXr8Q"
      }
    },
    {
      "cell_type": "code",
      "source": [
        "opt = pyo.SolverFactory('cbc')\n",
        "  # Instantiate the 'CBC' optimization engine: one of the best open source engines that can solve\n",
        "  # linear and non-linear problems with continuous and intger decision variables."
      ],
      "metadata": {
        "id": "HT5Zis8Ij5_9"
      },
      "execution_count": null,
      "outputs": []
    },
    {
      "cell_type": "markdown",
      "source": [
        "The next step is to create an optimization model in Pyomo."
      ],
      "metadata": {
        "id": "uQtwlum6gp7V"
      }
    },
    {
      "cell_type": "code",
      "source": [
        "m = pyo.ConcreteModel()\n",
        "  # Instantiate a model\n",
        "\n",
        "# Define variables\n",
        "m.x1 = pyo.Var(domain=pyo.NonNegativeReals)\n",
        "m.x2 = pyo.Var(domain=pyo.NonNegativeReals)\n",
        "  # Two variables, defined to be continuous and non-negative.\n",
        "\n",
        "m.RevenueObj = pyo.Objective( expr = 500*m.x1 + 450*m.x2, sense=pyo.maximize )\n",
        "\n",
        "m.HoursConstraint = pyo.Constraint( expr = 6*m.x1 + 5*m.x2 <= 60 )\n",
        "m.StorageConstraint = pyo.Constraint( expr = 10*m.x1 + 20*m.x2 <= 150 )\n",
        "m.DemandConstraint = pyo.Constraint( expr = m.x1 <= 8 )\n",
        "  # You could have read the objective and the constraint coefficients from a file and used them in formulating these equations."
      ],
      "metadata": {
        "id": "M7-VwbjffZXs"
      },
      "execution_count": null,
      "outputs": []
    },
    {
      "cell_type": "markdown",
      "source": [
        "We can print the model to get a sense of what is in it:"
      ],
      "metadata": {
        "id": "4h_W9-sl0DnE"
      }
    },
    {
      "cell_type": "code",
      "source": [
        "m.pprint()"
      ],
      "metadata": {
        "id": "ZbmXKwTggkvR"
      },
      "execution_count": null,
      "outputs": []
    },
    {
      "cell_type": "markdown",
      "source": [
        "It has a lot more information than we care about right now. We note that it has the two variables, objective, and three constraints that we defined. The variables haven't been set by teh optimizer, so they have value 'None'."
      ],
      "metadata": {
        "id": "MDpxv41c0RoP"
      }
    },
    {
      "cell_type": "code",
      "source": [
        "m.dual = pyo.Suffix(direction=pyo.Suffix.IMPORT)\n",
        "  # Only necessary to access the shadow price here. Must be done before optimizing.\n",
        "  # The Suffix is the mechanism through which Pyomo accesses the internal variables.\n",
        "  # IMPORT here suggests that we are going to use the variable to receive some information from the\n",
        "  # optimizer (in contrast to send some extra information to it).\n",
        "\n",
        "opt.solve(m)\n",
        "# There are two ways of accessing the optimum values:\n",
        "print(\"Decision variables: \")\n",
        "print(\"Six ounce glasses  \", m.x1.value)  # .value\n",
        "print(\"Ten ounce glasses  \", m.x2())      # or \"calling\" it with ()\n",
        "\n",
        "print(\"\\nObjective: \")\n",
        "print(\"Revenue obtained\", m.RevenueObj())\n",
        "\n",
        "# We can also get the LHS of the constraints, showing us how much of the resources were used:\n",
        "print(\"\\nResources used: \")\n",
        "print(\"Hours used   \", m.HoursConstraint())\n",
        "print(\"Storage used   \", m.StorageConstraint())\n",
        "print(\"Demand used   \", m.DemandConstraint())\n",
        "\n",
        "# Because we told the optimizer that we want the \"dual\" variables after optimization these are available to us:\n",
        "print(\"\\nShadow prices of the \")\n",
        "print(\"hour limit    = \", m.dual[m.HoursConstraint])\n",
        "print(\"storage limit = \", m.dual[m.StorageConstraint])\n",
        "print(\"demand limit  = \", m.dual[m.DemandConstraint])\n"
      ],
      "metadata": {
        "id": "aL7MomIEkqkP"
      },
      "execution_count": null,
      "outputs": []
    },
    {
      "cell_type": "markdown",
      "source": [
        "## Extra Notes\n",
        "\n",
        "This highlights the features that you need to complete the HW1. There are a ton more. You can learn them, as necessary, from the resources at the end.\n",
        "\n",
        "### Abstract vs Concrete Models\n",
        "\n",
        "There are two types of models in Pyomo: concrete and abstract. The former can be created when all your data elements (constraint parameters and objective coefficients) are available at the time of model creation. The abstract model allows us to create a model without \"hard coding\" data as part of it. The former is easier (hence we use it here). The latter allows us to separately specify a data file whose content will decide the model details. Abstract model is more common in some of the more popular optimization modeling languages (such as AMPL), as it allows us to focus on the type of model, without getting bogged down in the details of a specific instance.\n",
        "\n",
        "Having said that, because Pyomo is being used within Python, we could achieve quite a bit of \"program--data separation\" using a concrete model too. We use ConcreteModel in this example since it's a little easier to use.\n",
        "\n",
        "### Further Resources\n",
        "\n",
        "1. A nice [tutorial style cookbook](https://pyomo.readthedocs.io/en/stable/) by Professor Jeffrey Kantor from Notre Dame.\n",
        "1. The [official Pyomo documentation](https://pyomo.readthedocs.io/en/stable/).\n"
      ],
      "metadata": {
        "id": "fUzJ_kM9qzGG"
      }
    }
  ]
}